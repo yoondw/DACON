{
 "cells": [
  {
   "cell_type": "markdown",
   "metadata": {},
   "source": [
    "## 파일 가져오기"
   ]
  },
  {
   "cell_type": "code",
   "execution_count": 1,
   "metadata": {
    "colab": {
     "base_uri": "https://localhost:8080/"
    },
    "executionInfo": {
     "elapsed": 17995,
     "status": "ok",
     "timestamp": 1647577209818,
     "user": {
      "displayName": "DW Yoon",
      "photoUrl": "https://lh3.googleusercontent.com/a/default-user=s64",
      "userId": "00591404067396199270"
     },
     "user_tz": -540
    },
    "id": "-OhpMUAXAX4s",
    "outputId": "303febf7-efd0-414c-cb6b-4df1a97efaf8"
   },
   "outputs": [
    {
     "name": "stdout",
     "output_type": "stream",
     "text": [
      "Mounted at /content/drive\n"
     ]
    }
   ],
   "source": [
    "from google.colab import drive\n",
    "drive.mount('/content/drive')"
   ]
  },
  {
   "cell_type": "code",
   "execution_count": 60,
   "metadata": {
    "executionInfo": {
     "elapsed": 332,
     "status": "ok",
     "timestamp": 1647578425885,
     "user": {
      "displayName": "DW Yoon",
      "photoUrl": "https://lh3.googleusercontent.com/a/default-user=s64",
      "userId": "00591404067396199270"
     },
     "user_tz": -540
    },
    "id": "qdpQYeJEAIsX"
   },
   "outputs": [],
   "source": [
    "import torch\n",
    "import torch.nn as nn\n",
    "import torch.optim as optim\n",
    "\n",
    "import pandas as pd\n",
    "import numpy as np\n",
    "\n",
    "from sklearn.model_selection import train_test_split\n",
    "\n",
    "from torch.utils.data import DataLoader"
   ]
  },
  {
   "cell_type": "code",
   "execution_count": 61,
   "metadata": {
    "colab": {
     "base_uri": "https://localhost:8080/"
    },
    "executionInfo": {
     "elapsed": 3,
     "status": "ok",
     "timestamp": 1647578426236,
     "user": {
      "displayName": "DW Yoon",
      "photoUrl": "https://lh3.googleusercontent.com/a/default-user=s64",
      "userId": "00591404067396199270"
     },
     "user_tz": -540
    },
    "id": "SxRmJp0NAiRi",
    "outputId": "dae5c561-48c3-4851-aac3-0bf178709dcc"
   },
   "outputs": [
    {
     "data": {
      "text/plain": [
       "device(type='cpu')"
      ]
     },
     "execution_count": 61,
     "metadata": {},
     "output_type": "execute_result"
    }
   ],
   "source": [
    "device = torch.device('cuda' if torch.cuda.is_available() else 'cpu')\n",
    "device"
   ]
  },
  {
   "cell_type": "code",
   "execution_count": 61,
   "metadata": {
    "executionInfo": {
     "elapsed": 2,
     "status": "ok",
     "timestamp": 1647578426237,
     "user": {
      "displayName": "DW Yoon",
      "photoUrl": "https://lh3.googleusercontent.com/a/default-user=s64",
      "userId": "00591404067396199270"
     },
     "user_tz": -540
    },
    "id": "FUzzT_8tAiVD"
   },
   "outputs": [],
   "source": []
  },
  {
   "cell_type": "code",
   "execution_count": 61,
   "metadata": {
    "executionInfo": {
     "elapsed": 3,
     "status": "ok",
     "timestamp": 1647578426571,
     "user": {
      "displayName": "DW Yoon",
      "photoUrl": "https://lh3.googleusercontent.com/a/default-user=s64",
      "userId": "00591404067396199270"
     },
     "user_tz": -540
    },
    "id": "ZrVTN-QKBPsf"
   },
   "outputs": [],
   "source": []
  },
  {
   "cell_type": "markdown",
   "metadata": {
    "executionInfo": {
     "elapsed": 3,
     "status": "ok",
     "timestamp": 1647578426572,
     "user": {
      "displayName": "DW Yoon",
      "photoUrl": "https://lh3.googleusercontent.com/a/default-user=s64",
      "userId": "00591404067396199270"
     },
     "user_tz": -540
    },
    "id": "MA82tkvoBP2C"
   },
   "source": [
    "## train, valid, test set 생성"
   ]
  },
  {
   "cell_type": "code",
   "execution_count": 81,
   "metadata": {
    "colab": {
     "base_uri": "https://localhost:8080/"
    },
    "executionInfo": {
     "elapsed": 337,
     "status": "ok",
     "timestamp": 1647578588466,
     "user": {
      "displayName": "DW Yoon",
      "photoUrl": "https://lh3.googleusercontent.com/a/default-user=s64",
      "userId": "00591404067396199270"
     },
     "user_tz": -540
    },
    "id": "8IkqucQzCz33",
    "outputId": "96d54ef2-7bda-4c76-e785-82418a7cf046"
   },
   "outputs": [
    {
     "name": "stdout",
     "output_type": "stream",
     "text": [
      "1868 467 1868 467\n"
     ]
    }
   ],
   "source": [
    "path = '/content/drive/MyDrive/2학년 1학기/DACON/hand_gesture_data/'\n",
    "\n",
    "df = pd.read_csv(path + 'train.csv').drop('id', axis = 1)\n",
    "df_test = pd.read_csv(path + 'test.csv').drop('id', axis = 1)\n",
    "\n",
    "features = df.iloc[:, :32]\n",
    "labels = df.iloc[:, 32]\n",
    "\n",
    "train_x, valid_x, train_y, valid_y = train_test_split(features, labels, test_size = 0.2, \n",
    "                                                    random_state = 908, stratify = labels)\n",
    "\n",
    "print(len(train_x), len(valid_x), len(train_y), len(valid_y))"
   ]
  },
  {
   "cell_type": "code",
   "execution_count": 82,
   "metadata": {
    "colab": {
     "base_uri": "https://localhost:8080/"
    },
    "executionInfo": {
     "elapsed": 4,
     "status": "ok",
     "timestamp": 1647578588768,
     "user": {
      "displayName": "DW Yoon",
      "photoUrl": "https://lh3.googleusercontent.com/a/default-user=s64",
      "userId": "00591404067396199270"
     },
     "user_tz": -540
    },
    "id": "gbduLJbFE26o",
    "outputId": "89ade8ff-e952-4b7b-9de2-52782c7ab1f3"
   },
   "outputs": [
    {
     "data": {
      "text/plain": [
       "tensor([[-26.0182,  -7.0139,  -3.1624,  ...,   7.8912,  -0.9049,   2.0000],\n",
       "        [  4.9438,   6.9123, -30.0757,  ...,  -9.8902,  -5.0376,   1.0000],\n",
       "        [  1.9227,   3.0482,   9.0198,  ...,  15.9428,   9.0623,   3.0000],\n",
       "        ...,\n",
       "        [ -1.9991,  -3.8975,   1.0088,  ..., -14.9780,  -5.0239,   3.0000],\n",
       "        [ -3.0107,  -0.9051,   4.0431,  ..., -12.9826,   0.8498,   1.0000],\n",
       "        [  2.1036,   4.0618, -34.9921,  ...,  44.9914,  -7.8544,   1.0000]])"
      ]
     },
     "execution_count": 82,
     "metadata": {},
     "output_type": "execute_result"
    }
   ],
   "source": [
    "train_x['target'] = train_y\n",
    "valid_x['target'] = valid_y\n",
    "\n",
    "train_data = torch.tensor(train_x.to_numpy()).float()\n",
    "valid_data = torch.tensor(valid_x.to_numpy()).float()\n",
    "test_data = torch.tensor(df_test.to_numpy()).float()\n",
    "\n",
    "train_data"
   ]
  },
  {
   "cell_type": "code",
   "execution_count": 83,
   "metadata": {
    "colab": {
     "base_uri": "https://localhost:8080/"
    },
    "executionInfo": {
     "elapsed": 3,
     "status": "ok",
     "timestamp": 1647578588768,
     "user": {
      "displayName": "DW Yoon",
      "photoUrl": "https://lh3.googleusercontent.com/a/default-user=s64",
      "userId": "00591404067396199270"
     },
     "user_tz": -540
    },
    "id": "kMGW_S1TTDoq",
    "outputId": "0a57dec3-5021-44bd-f7b5-2a577c5ff06c"
   },
   "outputs": [
    {
     "data": {
      "text/plain": [
       "tensor([[-9.0225e+00,  9.7237e-01,  7.0467e+00,  ..., -3.2061e+01,\n",
       "         -1.1030e+01,  2.0000e+00],\n",
       "        [-3.0089e+00,  3.0868e+00, -4.5939e+01,  ...,  8.0887e+01,\n",
       "          1.4929e+01,  3.0000e+00],\n",
       "        [ 1.3871e-01, -2.1820e+00,  2.6881e+01,  ..., -3.0998e+01,\n",
       "         -5.9963e+00,  1.0000e+00],\n",
       "        ...,\n",
       "        [-8.9184e+00,  3.1382e+00,  2.8129e+01,  ..., -1.0817e+01,\n",
       "          1.0706e+00,  3.0000e+00],\n",
       "        [-1.9682e+00,  5.8605e-02, -8.9131e+00,  ..., -9.0255e+00,\n",
       "         -3.0565e+00,  1.0000e+00],\n",
       "        [ 3.8140e+00, -8.0363e+00,  5.9204e+00,  ..., -4.2964e+01,\n",
       "         -3.9029e+00,  0.0000e+00]])"
      ]
     },
     "execution_count": 83,
     "metadata": {},
     "output_type": "execute_result"
    }
   ],
   "source": [
    "valid_data"
   ]
  },
  {
   "cell_type": "code",
   "execution_count": 84,
   "metadata": {
    "colab": {
     "base_uri": "https://localhost:8080/"
    },
    "executionInfo": {
     "elapsed": 4,
     "status": "ok",
     "timestamp": 1647578589082,
     "user": {
      "displayName": "DW Yoon",
      "photoUrl": "https://lh3.googleusercontent.com/a/default-user=s64",
      "userId": "00591404067396199270"
     },
     "user_tz": -540
    },
    "id": "A_7Qaju-KsOx",
    "outputId": "99fbe4ad-7309-4485-a133-6c6b63d09a4f"
   },
   "outputs": [
    {
     "data": {
      "text/plain": [
       "tensor([[ 6.7135e-02,  5.0404e+00, -2.9654e+00,  ...,  4.0444e+00,\n",
       "         -1.9933e+00,  1.0856e+01],\n",
       "        [ 6.8907e+00, -1.2011e+01,  2.4882e+01,  ..., -2.8528e+00,\n",
       "          5.6028e+01,  5.2967e+01],\n",
       "        [-4.8097e+00,  9.6286e-01, -1.8936e+00,  ..., -6.9175e+00,\n",
       "          2.8424e+00, -3.0814e+00],\n",
       "        ...,\n",
       "        [ 4.0359e+00, -1.0138e+01,  5.9432e+00,  ...,  1.9217e+00,\n",
       "          1.3952e+01,  1.1866e+01],\n",
       "        [ 8.9205e+00,  3.3165e-02,  2.0058e+01,  ...,  9.9685e+00,\n",
       "         -3.0971e+00,  7.9662e+00],\n",
       "        [ 1.0422e+00, -2.9284e+00, -3.4982e+01,  ...,  3.8116e+00,\n",
       "          7.7962e+01, -2.2974e+01]])"
      ]
     },
     "execution_count": 84,
     "metadata": {},
     "output_type": "execute_result"
    }
   ],
   "source": [
    "test_data"
   ]
  },
  {
   "cell_type": "code",
   "execution_count": 85,
   "metadata": {
    "executionInfo": {
     "elapsed": 3,
     "status": "ok",
     "timestamp": 1647578589082,
     "user": {
      "displayName": "DW Yoon",
      "photoUrl": "https://lh3.googleusercontent.com/a/default-user=s64",
      "userId": "00591404067396199270"
     },
     "user_tz": -540
    },
    "id": "0CUdxzJcPGaW"
   },
   "outputs": [],
   "source": [
    "def total_loader(batch_size):\n",
    "    train_loader = torch.utils.data.DataLoader(train_data, batch_size = batch_size)\n",
    "    valid_loader = torch.utils.data.DataLoader(valid_data, batch_size = batch_size)\n",
    "    test_loader = torch.utils.data.DataLoader(test_data, batch_size = batch_size)\n",
    "\n",
    "    return train_loader, valid_loader, test_loader"
   ]
  },
  {
   "cell_type": "code",
   "execution_count": 85,
   "metadata": {
    "executionInfo": {
     "elapsed": 2,
     "status": "ok",
     "timestamp": 1647578589417,
     "user": {
      "displayName": "DW Yoon",
      "photoUrl": "https://lh3.googleusercontent.com/a/default-user=s64",
      "userId": "00591404067396199270"
     },
     "user_tz": -540
    },
    "id": "qUFTmAlsTqMu"
   },
   "outputs": [],
   "source": []
  },
  {
   "cell_type": "code",
   "execution_count": 85,
   "metadata": {
    "executionInfo": {
     "elapsed": 2,
     "status": "ok",
     "timestamp": 1647578589418,
     "user": {
      "displayName": "DW Yoon",
      "photoUrl": "https://lh3.googleusercontent.com/a/default-user=s64",
      "userId": "00591404067396199270"
     },
     "user_tz": -540
    },
    "id": "qd0yALx9ps7C"
   },
   "outputs": [],
   "source": []
  },
  {
   "cell_type": "markdown",
   "metadata": {
    "executionInfo": {
     "elapsed": 2,
     "status": "ok",
     "timestamp": 1647578589418,
     "user": {
      "displayName": "DW Yoon",
      "photoUrl": "https://lh3.googleusercontent.com/a/default-user=s64",
      "userId": "00591404067396199270"
     },
     "user_tz": -540
    },
    "id": "SGlalQs5E3A1"
   },
   "source": [
    "## Simple DNN 생성, 학습"
   ]
  },
  {
   "cell_type": "code",
   "execution_count": 86,
   "metadata": {
    "executionInfo": {
     "elapsed": 3,
     "status": "ok",
     "timestamp": 1647578589723,
     "user": {
      "displayName": "DW Yoon",
      "photoUrl": "https://lh3.googleusercontent.com/a/default-user=s64",
      "userId": "00591404067396199270"
     },
     "user_tz": -540
    },
    "id": "-cXQM2EsBP5e"
   },
   "outputs": [],
   "source": [
    "class categorical(nn.Module):\n",
    "    def __init__(self):\n",
    "        super(categorical, self).__init__()\n",
    "\n",
    "        self.fc1 = nn.Linear(32, 32)\n",
    "        self.fc2 = nn.Linear(32, 16)\n",
    "        self.fc3 = nn.Linear(16, 4)\n",
    "\n",
    "        self.relu = nn.ReLU()\n",
    "        self.dropout = nn.Dropout(0.5)\n",
    "        self.softmax = nn.Softmax(dim = 1)\n",
    "\n",
    "\n",
    "    def forward(self, x):\n",
    "        x = self.fc1(x)\n",
    "        x = self.relu(x)\n",
    "        x = self.dropout(x)\n",
    "        \n",
    "        x = self.fc2(x)\n",
    "        x = self.relu(x)\n",
    "        output = self.softmax(self.fc3(x))\n",
    "       \n",
    "        return output"
   ]
  },
  {
   "cell_type": "code",
   "execution_count": 87,
   "metadata": {
    "executionInfo": {
     "elapsed": 4,
     "status": "ok",
     "timestamp": 1647578589725,
     "user": {
      "displayName": "DW Yoon",
      "photoUrl": "https://lh3.googleusercontent.com/a/default-user=s64",
      "userId": "00591404067396199270"
     },
     "user_tz": -540
    },
    "id": "wZNFvSMKEGkg"
   },
   "outputs": [],
   "source": [
    "def train(model, train_loader, valid_loader, optimizer, criterion, epochs, early_stopping_counter):\n",
    "    model.train()\n",
    "    min_val_loss = 999999\n",
    "    counter = 0\n",
    "\n",
    "    for epoch in range(1, epochs + 1):\n",
    "        epoch_loss = 0.0\n",
    "        train_loss = []\n",
    "        valid_loss = []\n",
    "\n",
    "        for batch_data in train_loader:\n",
    "            features, labels = batch_data[:, :32], batch_data[:, 32].long()\n",
    "\n",
    "            optimizer.zero_grad()\n",
    "            output = model(features)\n",
    "            loss = criterion(output, labels)\n",
    "\n",
    "            loss.backward()\n",
    "            optimizer.step()\n",
    "\n",
    "            epoch_loss += (loss.item() / len(train_loader))\n",
    "            train_loss.append(loss.item())\n",
    "\n",
    "        #---------------------------------------------------------------------#\n",
    "\n",
    "        model.eval()\n",
    "\n",
    "        with torch.no_grad():\n",
    "            for batch_data in valid_loader:\n",
    "                features, labels = batch_data[:, :32], batch_data[:, 32].long()\n",
    "\n",
    "                output = model(features)\n",
    "                loss = criterion(output, labels)\n",
    "\n",
    "                valid_loss.append(loss.item())\n",
    "\n",
    "        #---------------------------------------------------------------------#\n",
    "\n",
    "        print('Epoch [{}/{}] / Train_Loss : {} / Valid_Loss : {}'.format(epoch, epochs, np.average(train_loss), np.average(valid_loss)), end = ' ')\n",
    "\n",
    "        \n",
    "        if min_val_loss > np.average(valid_loss):\n",
    "            torch.save(model, path + 'hand_dnn.pt')\n",
    "            min_val_loss = np.average(valid_loss)\n",
    "            print('/ New Model Saved.')\n",
    "            counter = 0\n",
    "        else:\n",
    "            counter += 1\n",
    "            if counter == early_stopping_counter:\n",
    "                print('/ Early Stopping.')\n",
    "                break\n",
    "            else:\n",
    "                print('/ Counter [{}/{}]'.format(counter, early_stopping_counter))"
   ]
  },
  {
   "cell_type": "code",
   "execution_count": 88,
   "metadata": {
    "colab": {
     "base_uri": "https://localhost:8080/"
    },
    "executionInfo": {
     "elapsed": 4572,
     "status": "ok",
     "timestamp": 1647578594561,
     "user": {
      "displayName": "DW Yoon",
      "photoUrl": "https://lh3.googleusercontent.com/a/default-user=s64",
      "userId": "00591404067396199270"
     },
     "user_tz": -540
    },
    "id": "Z9lG2aMCRISX",
    "outputId": "d3218ac5-02bb-40e4-f1f8-6d2c87a82071"
   },
   "outputs": [
    {
     "name": "stdout",
     "output_type": "stream",
     "text": [
      "Epoch [1/150] / Train_Loss : 1.3898706670500274 / Valid_Loss : 1.3527858217557271 / New Model Saved.\n",
      "Epoch [2/150] / Train_Loss : 1.2585030763577192 / Valid_Loss : 1.2227944691975912 / New Model Saved.\n",
      "Epoch [3/150] / Train_Loss : 1.2025370888220959 / Valid_Loss : 1.1816839555899301 / New Model Saved.\n",
      "Epoch [4/150] / Train_Loss : 1.1591277428162403 / Valid_Loss : 1.1602157910664876 / New Model Saved.\n",
      "Epoch [5/150] / Train_Loss : 1.1377957758740482 / Valid_Loss : 1.1637830038865407 / Counter [1/20]\n",
      "Epoch [6/150] / Train_Loss : 1.1351570359662049 / Valid_Loss : 1.1297813634077707 / New Model Saved.\n",
      "Epoch [7/150] / Train_Loss : 1.1404721609547608 / Valid_Loss : 1.2099351723988852 / Counter [1/20]\n",
      "Epoch [8/150] / Train_Loss : 1.1159179373684092 / Valid_Loss : 1.1881167511145274 / Counter [2/20]\n",
      "Epoch [9/150] / Train_Loss : 1.1122466509158795 / Valid_Loss : 1.14734574953715 / Counter [3/20]\n",
      "Epoch [10/150] / Train_Loss : 1.0929047526457372 / Valid_Loss : 1.1698720335960389 / Counter [4/20]\n",
      "Epoch [11/150] / Train_Loss : 1.101755136098617 / Valid_Loss : 1.1667677879333496 / Counter [5/20]\n",
      "Epoch [12/150] / Train_Loss : 1.1341088032111144 / Valid_Loss : 1.1366538008054097 / Counter [6/20]\n",
      "Epoch [13/150] / Train_Loss : 1.0827643453565419 / Valid_Loss : 1.1686295131842295 / Counter [7/20]\n",
      "Epoch [14/150] / Train_Loss : 1.090542452967065 / Valid_Loss : 1.15566619237264 / Counter [8/20]\n",
      "Epoch [15/150] / Train_Loss : 1.1020666421988072 / Valid_Loss : 1.1546662112077077 / Counter [9/20]\n",
      "Epoch [16/150] / Train_Loss : 1.092898704047896 / Valid_Loss : 1.1713478604952494 / Counter [10/20]\n",
      "Epoch [17/150] / Train_Loss : 1.0820060688206272 / Valid_Loss : 1.13356294631958 / Counter [11/20]\n",
      "Epoch [18/150] / Train_Loss : 1.0828919385233495 / Valid_Loss : 1.1280624131361643 / New Model Saved.\n",
      "Epoch [19/150] / Train_Loss : 1.0721162654395797 / Valid_Loss : 1.1272578219572702 / New Model Saved.\n",
      "Epoch [20/150] / Train_Loss : 1.0696599442734678 / Valid_Loss : 1.1081557671229045 / New Model Saved.\n",
      "Epoch [21/150] / Train_Loss : 1.043739036617116 / Valid_Loss : 1.1041958610216775 / New Model Saved.\n",
      "Epoch [22/150] / Train_Loss : 1.030989666779836 / Valid_Loss : 1.1164019803206127 / Counter [1/20]\n",
      "Epoch [23/150] / Train_Loss : 1.0457084601760929 / Valid_Loss : 1.1625410159428915 / Counter [2/20]\n",
      "Epoch [24/150] / Train_Loss : 1.0637201004558139 / Valid_Loss : 1.117879436413447 / Counter [3/20]\n",
      "Epoch [25/150] / Train_Loss : 1.0628488359288273 / Valid_Loss : 1.132248616218567 / Counter [4/20]\n",
      "Epoch [26/150] / Train_Loss : 1.0917948744235895 / Valid_Loss : 1.1535536567370097 / Counter [5/20]\n",
      "Epoch [27/150] / Train_Loss : 1.0846059928592453 / Valid_Loss : 1.1423012256622314 / Counter [6/20]\n",
      "Epoch [28/150] / Train_Loss : 1.0730057475913284 / Valid_Loss : 1.1604073623816171 / Counter [7/20]\n",
      "Epoch [29/150] / Train_Loss : 1.0782084612764864 / Valid_Loss : 1.170003499587377 / Counter [8/20]\n",
      "Epoch [30/150] / Train_Loss : 1.0699533432976813 / Valid_Loss : 1.1421792308489482 / Counter [9/20]\n",
      "Epoch [31/150] / Train_Loss : 1.057655728270865 / Valid_Loss : 1.1736708482106526 / Counter [10/20]\n",
      "Epoch [32/150] / Train_Loss : 1.0507135808977306 / Valid_Loss : 1.1184242010116576 / Counter [11/20]\n",
      "Epoch [33/150] / Train_Loss : 1.0493371257415185 / Valid_Loss : 1.146691660086314 / Counter [12/20]\n",
      "Epoch [34/150] / Train_Loss : 1.0767242699606805 / Valid_Loss : 1.1490291019280752 / Counter [13/20]\n",
      "Epoch [35/150] / Train_Loss : 1.125627575776516 / Valid_Loss : 1.173258117834727 / Counter [14/20]\n",
      "Epoch [36/150] / Train_Loss : 1.0957473592880445 / Valid_Loss : 1.1611005703608195 / Counter [15/20]\n",
      "Epoch [37/150] / Train_Loss : 1.0995933031424499 / Valid_Loss : 1.1450009127457936 / Counter [16/20]\n",
      "Epoch [38/150] / Train_Loss : 1.121781234557812 / Valid_Loss : 1.2390276531378428 / Counter [17/20]\n",
      "Epoch [39/150] / Train_Loss : 1.1456041020205898 / Valid_Loss : 1.1874060889085134 / Counter [18/20]\n",
      "Epoch [40/150] / Train_Loss : 1.0816124244632883 / Valid_Loss : 1.146859852472941 / Counter [19/20]\n",
      "Epoch [41/150] / Train_Loss : 1.0554918488885603 / Valid_Loss : 1.1286203881104788 / Early Stopping.\n"
     ]
    }
   ],
   "source": [
    "batch_size = 16\n",
    "epochs = 150\n",
    "learning_rate = 0.01\n",
    "early_stopping_counter = 20\n",
    "\n",
    "model = categorical()\n",
    "optimizer = optim.Adam(model.parameters(), lr = learning_rate)\n",
    "criterion = nn.CrossEntropyLoss()\n",
    "\n",
    "train_loader, valid_loader, test_loader = total_loader(batch_size)\n",
    "\n",
    "train(model, train_loader, valid_loader, optimizer, criterion, epochs, early_stopping_counter)"
   ]
  },
  {
   "cell_type": "code",
   "execution_count": 89,
   "metadata": {
    "colab": {
     "base_uri": "https://localhost:8080/"
    },
    "executionInfo": {
     "elapsed": 1166,
     "status": "ok",
     "timestamp": 1647578595990,
     "user": {
      "displayName": "DW Yoon",
      "photoUrl": "https://lh3.googleusercontent.com/a/default-user=s64",
      "userId": "00591404067396199270"
     },
     "user_tz": -540
    },
    "id": "8YHZSDSToXLh",
    "outputId": "342c540e-6cb6-4e91-eefa-f33be9999c5a"
   },
   "outputs": [
    {
     "data": {
      "text/plain": [
       "[0, 0, 0, 3, 2, 0, 0, 1, 1, 1]"
      ]
     },
     "execution_count": 89,
     "metadata": {},
     "output_type": "execute_result"
    }
   ],
   "source": [
    "model = torch.load(path + 'hand_dnn.pt')\n",
    "model.eval()\n",
    "\n",
    "with torch.no_grad():\n",
    "    test_labels = []\n",
    "\n",
    "    for batch_data in test_loader:\n",
    "        output = model(batch_data)\n",
    "\n",
    "        for i in range(len(output)):\n",
    "            test_labels.append(int(np.argmax(output[i])))\n",
    "                    \n",
    "test_labels[:10]"
   ]
  },
  {
   "cell_type": "code",
   "execution_count": null,
   "metadata": {
    "id": "rq0J9trdoYnW"
   },
   "outputs": [],
   "source": []
  },
  {
   "cell_type": "code",
   "execution_count": null,
   "metadata": {
    "id": "xK9vv9kWrZsC"
   },
   "outputs": [],
   "source": []
  },
  {
   "cell_type": "markdown",
   "metadata": {
    "id": "ZZQ8eDKtrZuK"
   },
   "source": [
    "## 예측 결과 생성"
   ]
  },
  {
   "cell_type": "code",
   "execution_count": 90,
   "metadata": {
    "colab": {
     "base_uri": "https://localhost:8080/",
     "height": 424
    },
    "executionInfo": {
     "elapsed": 278,
     "status": "ok",
     "timestamp": 1647578613399,
     "user": {
      "displayName": "DW Yoon",
      "photoUrl": "https://lh3.googleusercontent.com/a/default-user=s64",
      "userId": "00591404067396199270"
     },
     "user_tz": -540
    },
    "id": "oIULWDugrZwL",
    "outputId": "682d02c9-7aa9-4732-f000-40bd725d785e"
   },
   "outputs": [
    {
     "data": {
      "text/html": [
       "\n",
       "  <div id=\"df-713b1a14-3de0-4652-a0d4-a4d12bb8cf34\">\n",
       "    <div class=\"colab-df-container\">\n",
       "      <div>\n",
       "<style scoped>\n",
       "    .dataframe tbody tr th:only-of-type {\n",
       "        vertical-align: middle;\n",
       "    }\n",
       "\n",
       "    .dataframe tbody tr th {\n",
       "        vertical-align: top;\n",
       "    }\n",
       "\n",
       "    .dataframe thead th {\n",
       "        text-align: right;\n",
       "    }\n",
       "</style>\n",
       "<table border=\"1\" class=\"dataframe\">\n",
       "  <thead>\n",
       "    <tr style=\"text-align: right;\">\n",
       "      <th></th>\n",
       "      <th>id</th>\n",
       "      <th>target</th>\n",
       "    </tr>\n",
       "  </thead>\n",
       "  <tbody>\n",
       "    <tr>\n",
       "      <th>0</th>\n",
       "      <td>1</td>\n",
       "      <td>0</td>\n",
       "    </tr>\n",
       "    <tr>\n",
       "      <th>1</th>\n",
       "      <td>2</td>\n",
       "      <td>0</td>\n",
       "    </tr>\n",
       "    <tr>\n",
       "      <th>2</th>\n",
       "      <td>3</td>\n",
       "      <td>0</td>\n",
       "    </tr>\n",
       "    <tr>\n",
       "      <th>3</th>\n",
       "      <td>4</td>\n",
       "      <td>3</td>\n",
       "    </tr>\n",
       "    <tr>\n",
       "      <th>4</th>\n",
       "      <td>5</td>\n",
       "      <td>2</td>\n",
       "    </tr>\n",
       "    <tr>\n",
       "      <th>...</th>\n",
       "      <td>...</td>\n",
       "      <td>...</td>\n",
       "    </tr>\n",
       "    <tr>\n",
       "      <th>9338</th>\n",
       "      <td>9339</td>\n",
       "      <td>0</td>\n",
       "    </tr>\n",
       "    <tr>\n",
       "      <th>9339</th>\n",
       "      <td>9340</td>\n",
       "      <td>1</td>\n",
       "    </tr>\n",
       "    <tr>\n",
       "      <th>9340</th>\n",
       "      <td>9341</td>\n",
       "      <td>0</td>\n",
       "    </tr>\n",
       "    <tr>\n",
       "      <th>9341</th>\n",
       "      <td>9342</td>\n",
       "      <td>0</td>\n",
       "    </tr>\n",
       "    <tr>\n",
       "      <th>9342</th>\n",
       "      <td>9343</td>\n",
       "      <td>3</td>\n",
       "    </tr>\n",
       "  </tbody>\n",
       "</table>\n",
       "<p>9343 rows × 2 columns</p>\n",
       "</div>\n",
       "      <button class=\"colab-df-convert\" onclick=\"convertToInteractive('df-713b1a14-3de0-4652-a0d4-a4d12bb8cf34')\"\n",
       "              title=\"Convert this dataframe to an interactive table.\"\n",
       "              style=\"display:none;\">\n",
       "        \n",
       "  <svg xmlns=\"http://www.w3.org/2000/svg\" height=\"24px\"viewBox=\"0 0 24 24\"\n",
       "       width=\"24px\">\n",
       "    <path d=\"M0 0h24v24H0V0z\" fill=\"none\"/>\n",
       "    <path d=\"M18.56 5.44l.94 2.06.94-2.06 2.06-.94-2.06-.94-.94-2.06-.94 2.06-2.06.94zm-11 1L8.5 8.5l.94-2.06 2.06-.94-2.06-.94L8.5 2.5l-.94 2.06-2.06.94zm10 10l.94 2.06.94-2.06 2.06-.94-2.06-.94-.94-2.06-.94 2.06-2.06.94z\"/><path d=\"M17.41 7.96l-1.37-1.37c-.4-.4-.92-.59-1.43-.59-.52 0-1.04.2-1.43.59L10.3 9.45l-7.72 7.72c-.78.78-.78 2.05 0 2.83L4 21.41c.39.39.9.59 1.41.59.51 0 1.02-.2 1.41-.59l7.78-7.78 2.81-2.81c.8-.78.8-2.07 0-2.86zM5.41 20L4 18.59l7.72-7.72 1.47 1.35L5.41 20z\"/>\n",
       "  </svg>\n",
       "      </button>\n",
       "      \n",
       "  <style>\n",
       "    .colab-df-container {\n",
       "      display:flex;\n",
       "      flex-wrap:wrap;\n",
       "      gap: 12px;\n",
       "    }\n",
       "\n",
       "    .colab-df-convert {\n",
       "      background-color: #E8F0FE;\n",
       "      border: none;\n",
       "      border-radius: 50%;\n",
       "      cursor: pointer;\n",
       "      display: none;\n",
       "      fill: #1967D2;\n",
       "      height: 32px;\n",
       "      padding: 0 0 0 0;\n",
       "      width: 32px;\n",
       "    }\n",
       "\n",
       "    .colab-df-convert:hover {\n",
       "      background-color: #E2EBFA;\n",
       "      box-shadow: 0px 1px 2px rgba(60, 64, 67, 0.3), 0px 1px 3px 1px rgba(60, 64, 67, 0.15);\n",
       "      fill: #174EA6;\n",
       "    }\n",
       "\n",
       "    [theme=dark] .colab-df-convert {\n",
       "      background-color: #3B4455;\n",
       "      fill: #D2E3FC;\n",
       "    }\n",
       "\n",
       "    [theme=dark] .colab-df-convert:hover {\n",
       "      background-color: #434B5C;\n",
       "      box-shadow: 0px 1px 3px 1px rgba(0, 0, 0, 0.15);\n",
       "      filter: drop-shadow(0px 1px 2px rgba(0, 0, 0, 0.3));\n",
       "      fill: #FFFFFF;\n",
       "    }\n",
       "  </style>\n",
       "\n",
       "      <script>\n",
       "        const buttonEl =\n",
       "          document.querySelector('#df-713b1a14-3de0-4652-a0d4-a4d12bb8cf34 button.colab-df-convert');\n",
       "        buttonEl.style.display =\n",
       "          google.colab.kernel.accessAllowed ? 'block' : 'none';\n",
       "\n",
       "        async function convertToInteractive(key) {\n",
       "          const element = document.querySelector('#df-713b1a14-3de0-4652-a0d4-a4d12bb8cf34');\n",
       "          const dataTable =\n",
       "            await google.colab.kernel.invokeFunction('convertToInteractive',\n",
       "                                                     [key], {});\n",
       "          if (!dataTable) return;\n",
       "\n",
       "          const docLinkHtml = 'Like what you see? Visit the ' +\n",
       "            '<a target=\"_blank\" href=https://colab.research.google.com/notebooks/data_table.ipynb>data table notebook</a>'\n",
       "            + ' to learn more about interactive tables.';\n",
       "          element.innerHTML = '';\n",
       "          dataTable['output_type'] = 'display_data';\n",
       "          await google.colab.output.renderOutput(dataTable, element);\n",
       "          const docLink = document.createElement('div');\n",
       "          docLink.innerHTML = docLinkHtml;\n",
       "          element.appendChild(docLink);\n",
       "        }\n",
       "      </script>\n",
       "    </div>\n",
       "  </div>\n",
       "  "
      ],
      "text/plain": [
       "        id  target\n",
       "0        1       0\n",
       "1        2       0\n",
       "2        3       0\n",
       "3        4       3\n",
       "4        5       2\n",
       "...    ...     ...\n",
       "9338  9339       0\n",
       "9339  9340       1\n",
       "9340  9341       0\n",
       "9341  9342       0\n",
       "9342  9343       3\n",
       "\n",
       "[9343 rows x 2 columns]"
      ]
     },
     "execution_count": 90,
     "metadata": {},
     "output_type": "execute_result"
    }
   ],
   "source": [
    "df_test = pd.read_csv(path + 'test.csv')\n",
    "df_test['target'] = test_labels\n",
    "df_final = df_test[['id', 'target']]\n",
    "df_final"
   ]
  },
  {
   "cell_type": "code",
   "execution_count": 91,
   "metadata": {
    "executionInfo": {
     "elapsed": 304,
     "status": "ok",
     "timestamp": 1647578626788,
     "user": {
      "displayName": "DW Yoon",
      "photoUrl": "https://lh3.googleusercontent.com/a/default-user=s64",
      "userId": "00591404067396199270"
     },
     "user_tz": -540
    },
    "id": "B2DgyyYkrch8"
   },
   "outputs": [],
   "source": [
    "df_final.to_csv(path + 'DNN_earlystopping_submission.csv', index = False)"
   ]
  },
  {
   "cell_type": "code",
   "execution_count": null,
   "metadata": {
    "id": "rhn_UCnHsVWz"
   },
   "outputs": [],
   "source": []
  }
 ],
 "metadata": {
  "colab": {
   "authorship_tag": "ABX9TyMxXtAWO6fqAaNbwcLdHtM2",
   "collapsed_sections": [],
   "name": "Hand_DNN.ipynb",
   "provenance": []
  },
  "kernelspec": {
   "display_name": "Python 3 (ipykernel)",
   "language": "python",
   "name": "python3"
  },
  "language_info": {
   "codemirror_mode": {
    "name": "ipython",
    "version": 3
   },
   "file_extension": ".py",
   "mimetype": "text/x-python",
   "name": "python",
   "nbconvert_exporter": "python",
   "pygments_lexer": "ipython3",
   "version": "3.9.7"
  }
 },
 "nbformat": 4,
 "nbformat_minor": 1
}
