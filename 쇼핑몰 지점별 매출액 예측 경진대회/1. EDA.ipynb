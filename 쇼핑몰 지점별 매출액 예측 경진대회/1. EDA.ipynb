{
 "cells": [
  {
   "cell_type": "code",
   "execution_count": 1,
   "id": "9d0810a5",
   "metadata": {},
   "outputs": [],
   "source": [
    "import pandas as pd\n",
    "import numpy as np\n",
    "import matplotlib.pyplot as plt\n",
    "import seaborn as sns\n",
    "from tqdm import tqdm\n",
    "\n",
    "import statsmodels.formula.api as smf\n",
    "import statsmodels.api as sm"
   ]
  },
  {
   "cell_type": "code",
   "execution_count": 2,
   "id": "bf07f19b",
   "metadata": {},
   "outputs": [
    {
     "data": {
      "text/html": [
       "<div>\n",
       "<style scoped>\n",
       "    .dataframe tbody tr th:only-of-type {\n",
       "        vertical-align: middle;\n",
       "    }\n",
       "\n",
       "    .dataframe tbody tr th {\n",
       "        vertical-align: top;\n",
       "    }\n",
       "\n",
       "    .dataframe thead th {\n",
       "        text-align: right;\n",
       "    }\n",
       "</style>\n",
       "<table border=\"1\" class=\"dataframe\">\n",
       "  <thead>\n",
       "    <tr style=\"text-align: right;\">\n",
       "      <th></th>\n",
       "      <th>id</th>\n",
       "      <th>Store</th>\n",
       "      <th>Date</th>\n",
       "      <th>Temperature</th>\n",
       "      <th>Fuel_Price</th>\n",
       "      <th>Promotion1</th>\n",
       "      <th>Promotion2</th>\n",
       "      <th>Promotion3</th>\n",
       "      <th>Promotion4</th>\n",
       "      <th>Promotion5</th>\n",
       "      <th>Unemployment</th>\n",
       "      <th>IsHoliday</th>\n",
       "      <th>Weekly_Sales</th>\n",
       "    </tr>\n",
       "  </thead>\n",
       "  <tbody>\n",
       "    <tr>\n",
       "      <th>0</th>\n",
       "      <td>1</td>\n",
       "      <td>1</td>\n",
       "      <td>05/02/2010</td>\n",
       "      <td>42.31</td>\n",
       "      <td>2.572</td>\n",
       "      <td>NaN</td>\n",
       "      <td>NaN</td>\n",
       "      <td>NaN</td>\n",
       "      <td>NaN</td>\n",
       "      <td>NaN</td>\n",
       "      <td>8.106</td>\n",
       "      <td>False</td>\n",
       "      <td>1643690.90</td>\n",
       "    </tr>\n",
       "    <tr>\n",
       "      <th>1</th>\n",
       "      <td>2</td>\n",
       "      <td>1</td>\n",
       "      <td>12/02/2010</td>\n",
       "      <td>38.51</td>\n",
       "      <td>2.548</td>\n",
       "      <td>NaN</td>\n",
       "      <td>NaN</td>\n",
       "      <td>NaN</td>\n",
       "      <td>NaN</td>\n",
       "      <td>NaN</td>\n",
       "      <td>8.106</td>\n",
       "      <td>True</td>\n",
       "      <td>1641957.44</td>\n",
       "    </tr>\n",
       "    <tr>\n",
       "      <th>2</th>\n",
       "      <td>3</td>\n",
       "      <td>1</td>\n",
       "      <td>19/02/2010</td>\n",
       "      <td>39.93</td>\n",
       "      <td>2.514</td>\n",
       "      <td>NaN</td>\n",
       "      <td>NaN</td>\n",
       "      <td>NaN</td>\n",
       "      <td>NaN</td>\n",
       "      <td>NaN</td>\n",
       "      <td>8.106</td>\n",
       "      <td>False</td>\n",
       "      <td>1611968.17</td>\n",
       "    </tr>\n",
       "    <tr>\n",
       "      <th>3</th>\n",
       "      <td>4</td>\n",
       "      <td>1</td>\n",
       "      <td>26/02/2010</td>\n",
       "      <td>46.63</td>\n",
       "      <td>2.561</td>\n",
       "      <td>NaN</td>\n",
       "      <td>NaN</td>\n",
       "      <td>NaN</td>\n",
       "      <td>NaN</td>\n",
       "      <td>NaN</td>\n",
       "      <td>8.106</td>\n",
       "      <td>False</td>\n",
       "      <td>1409727.59</td>\n",
       "    </tr>\n",
       "    <tr>\n",
       "      <th>4</th>\n",
       "      <td>5</td>\n",
       "      <td>1</td>\n",
       "      <td>05/03/2010</td>\n",
       "      <td>46.50</td>\n",
       "      <td>2.625</td>\n",
       "      <td>NaN</td>\n",
       "      <td>NaN</td>\n",
       "      <td>NaN</td>\n",
       "      <td>NaN</td>\n",
       "      <td>NaN</td>\n",
       "      <td>8.106</td>\n",
       "      <td>False</td>\n",
       "      <td>1554806.68</td>\n",
       "    </tr>\n",
       "  </tbody>\n",
       "</table>\n",
       "</div>"
      ],
      "text/plain": [
       "   id  Store        Date  Temperature  Fuel_Price  Promotion1  Promotion2  \\\n",
       "0   1      1  05/02/2010        42.31       2.572         NaN         NaN   \n",
       "1   2      1  12/02/2010        38.51       2.548         NaN         NaN   \n",
       "2   3      1  19/02/2010        39.93       2.514         NaN         NaN   \n",
       "3   4      1  26/02/2010        46.63       2.561         NaN         NaN   \n",
       "4   5      1  05/03/2010        46.50       2.625         NaN         NaN   \n",
       "\n",
       "   Promotion3  Promotion4  Promotion5  Unemployment  IsHoliday  Weekly_Sales  \n",
       "0         NaN         NaN         NaN         8.106      False    1643690.90  \n",
       "1         NaN         NaN         NaN         8.106       True    1641957.44  \n",
       "2         NaN         NaN         NaN         8.106      False    1611968.17  \n",
       "3         NaN         NaN         NaN         8.106      False    1409727.59  \n",
       "4         NaN         NaN         NaN         8.106      False    1554806.68  "
      ]
     },
     "execution_count": 2,
     "metadata": {},
     "output_type": "execute_result"
    }
   ],
   "source": [
    "train_ = pd.read_csv('dataset/train.csv')\n",
    "test_ = pd.read_csv('dataset/test.csv')\n",
    "\n",
    "train_.head()"
   ]
  },
  {
   "cell_type": "code",
   "execution_count": 3,
   "id": "71ac2f32",
   "metadata": {},
   "outputs": [
    {
     "data": {
      "text/plain": [
       "id              6255\n",
       "Store           6255\n",
       "Date            6255\n",
       "Temperature     6255\n",
       "Fuel_Price      6255\n",
       "Promotion1      2102\n",
       "Promotion2      1592\n",
       "Promotion3      1885\n",
       "Promotion4      1819\n",
       "Promotion5      2115\n",
       "Unemployment    6255\n",
       "IsHoliday       6255\n",
       "Weekly_Sales    6255\n",
       "dtype: int64"
      ]
     },
     "execution_count": 3,
     "metadata": {},
     "output_type": "execute_result"
    }
   ],
   "source": [
    "train_.count()"
   ]
  },
  {
   "cell_type": "code",
   "execution_count": 4,
   "id": "aa189cce",
   "metadata": {},
   "outputs": [],
   "source": [
    "# 편한 가독성을 위해 연, 월, 일을 분리\n",
    "\n",
    "def split_date(df):\n",
    "    y = []\n",
    "    m = []\n",
    "    d = []\n",
    "    \n",
    "    for i in df['Date']:\n",
    "        d_, m_, y_ = i.split('/')\n",
    "        y.append(int(y_))\n",
    "        m.append(int(m_))\n",
    "        d.append(int(d_))\n",
    "        \n",
    "    df.insert(3, 'Y', y)\n",
    "    df.insert(4, 'M', m)\n",
    "    df.insert(5, 'D', d)\n",
    "    \n",
    "    return df\n",
    "\n",
    "# holiday이면 1, 아니면 0\n",
    "\n",
    "def holiday(df):\n",
    "    tmp = []\n",
    "    \n",
    "    for i in df['IsHoliday']:\n",
    "        if i == False:\n",
    "            tmp.append(0)\n",
    "        else:\n",
    "            tmp.append(1)\n",
    "            \n",
    "    df.insert(15, 'Holiday', tmp)\n",
    "    \n",
    "    return df"
   ]
  },
  {
   "cell_type": "code",
   "execution_count": 5,
   "id": "fb35c4a4",
   "metadata": {},
   "outputs": [
    {
     "data": {
      "text/html": [
       "<div>\n",
       "<style scoped>\n",
       "    .dataframe tbody tr th:only-of-type {\n",
       "        vertical-align: middle;\n",
       "    }\n",
       "\n",
       "    .dataframe tbody tr th {\n",
       "        vertical-align: top;\n",
       "    }\n",
       "\n",
       "    .dataframe thead th {\n",
       "        text-align: right;\n",
       "    }\n",
       "</style>\n",
       "<table border=\"1\" class=\"dataframe\">\n",
       "  <thead>\n",
       "    <tr style=\"text-align: right;\">\n",
       "      <th></th>\n",
       "      <th>id</th>\n",
       "      <th>Store</th>\n",
       "      <th>Date</th>\n",
       "      <th>Y</th>\n",
       "      <th>M</th>\n",
       "      <th>D</th>\n",
       "      <th>Temperature</th>\n",
       "      <th>Fuel_Price</th>\n",
       "      <th>Promotion1</th>\n",
       "      <th>Promotion2</th>\n",
       "      <th>Promotion3</th>\n",
       "      <th>Promotion4</th>\n",
       "      <th>Promotion5</th>\n",
       "      <th>Unemployment</th>\n",
       "      <th>IsHoliday</th>\n",
       "      <th>Holiday</th>\n",
       "      <th>Weekly_Sales</th>\n",
       "    </tr>\n",
       "  </thead>\n",
       "  <tbody>\n",
       "    <tr>\n",
       "      <th>0</th>\n",
       "      <td>1</td>\n",
       "      <td>1</td>\n",
       "      <td>05/02/2010</td>\n",
       "      <td>2010</td>\n",
       "      <td>2</td>\n",
       "      <td>5</td>\n",
       "      <td>42.31</td>\n",
       "      <td>2.572</td>\n",
       "      <td>NaN</td>\n",
       "      <td>NaN</td>\n",
       "      <td>NaN</td>\n",
       "      <td>NaN</td>\n",
       "      <td>NaN</td>\n",
       "      <td>8.106</td>\n",
       "      <td>False</td>\n",
       "      <td>0</td>\n",
       "      <td>1643690.90</td>\n",
       "    </tr>\n",
       "    <tr>\n",
       "      <th>1</th>\n",
       "      <td>2</td>\n",
       "      <td>1</td>\n",
       "      <td>12/02/2010</td>\n",
       "      <td>2010</td>\n",
       "      <td>2</td>\n",
       "      <td>12</td>\n",
       "      <td>38.51</td>\n",
       "      <td>2.548</td>\n",
       "      <td>NaN</td>\n",
       "      <td>NaN</td>\n",
       "      <td>NaN</td>\n",
       "      <td>NaN</td>\n",
       "      <td>NaN</td>\n",
       "      <td>8.106</td>\n",
       "      <td>True</td>\n",
       "      <td>1</td>\n",
       "      <td>1641957.44</td>\n",
       "    </tr>\n",
       "    <tr>\n",
       "      <th>2</th>\n",
       "      <td>3</td>\n",
       "      <td>1</td>\n",
       "      <td>19/02/2010</td>\n",
       "      <td>2010</td>\n",
       "      <td>2</td>\n",
       "      <td>19</td>\n",
       "      <td>39.93</td>\n",
       "      <td>2.514</td>\n",
       "      <td>NaN</td>\n",
       "      <td>NaN</td>\n",
       "      <td>NaN</td>\n",
       "      <td>NaN</td>\n",
       "      <td>NaN</td>\n",
       "      <td>8.106</td>\n",
       "      <td>False</td>\n",
       "      <td>0</td>\n",
       "      <td>1611968.17</td>\n",
       "    </tr>\n",
       "    <tr>\n",
       "      <th>3</th>\n",
       "      <td>4</td>\n",
       "      <td>1</td>\n",
       "      <td>26/02/2010</td>\n",
       "      <td>2010</td>\n",
       "      <td>2</td>\n",
       "      <td>26</td>\n",
       "      <td>46.63</td>\n",
       "      <td>2.561</td>\n",
       "      <td>NaN</td>\n",
       "      <td>NaN</td>\n",
       "      <td>NaN</td>\n",
       "      <td>NaN</td>\n",
       "      <td>NaN</td>\n",
       "      <td>8.106</td>\n",
       "      <td>False</td>\n",
       "      <td>0</td>\n",
       "      <td>1409727.59</td>\n",
       "    </tr>\n",
       "    <tr>\n",
       "      <th>4</th>\n",
       "      <td>5</td>\n",
       "      <td>1</td>\n",
       "      <td>05/03/2010</td>\n",
       "      <td>2010</td>\n",
       "      <td>3</td>\n",
       "      <td>5</td>\n",
       "      <td>46.50</td>\n",
       "      <td>2.625</td>\n",
       "      <td>NaN</td>\n",
       "      <td>NaN</td>\n",
       "      <td>NaN</td>\n",
       "      <td>NaN</td>\n",
       "      <td>NaN</td>\n",
       "      <td>8.106</td>\n",
       "      <td>False</td>\n",
       "      <td>0</td>\n",
       "      <td>1554806.68</td>\n",
       "    </tr>\n",
       "  </tbody>\n",
       "</table>\n",
       "</div>"
      ],
      "text/plain": [
       "   id  Store        Date     Y  M   D  Temperature  Fuel_Price  Promotion1  \\\n",
       "0   1      1  05/02/2010  2010  2   5        42.31       2.572         NaN   \n",
       "1   2      1  12/02/2010  2010  2  12        38.51       2.548         NaN   \n",
       "2   3      1  19/02/2010  2010  2  19        39.93       2.514         NaN   \n",
       "3   4      1  26/02/2010  2010  2  26        46.63       2.561         NaN   \n",
       "4   5      1  05/03/2010  2010  3   5        46.50       2.625         NaN   \n",
       "\n",
       "   Promotion2  Promotion3  Promotion4  Promotion5  Unemployment  IsHoliday  \\\n",
       "0         NaN         NaN         NaN         NaN         8.106      False   \n",
       "1         NaN         NaN         NaN         NaN         8.106       True   \n",
       "2         NaN         NaN         NaN         NaN         8.106      False   \n",
       "3         NaN         NaN         NaN         NaN         8.106      False   \n",
       "4         NaN         NaN         NaN         NaN         8.106      False   \n",
       "\n",
       "   Holiday  Weekly_Sales  \n",
       "0        0    1643690.90  \n",
       "1        1    1641957.44  \n",
       "2        0    1611968.17  \n",
       "3        0    1409727.59  \n",
       "4        0    1554806.68  "
      ]
     },
     "execution_count": 5,
     "metadata": {},
     "output_type": "execute_result"
    }
   ],
   "source": [
    "train_ = split_date(train_)\n",
    "train_ = holiday(train_)\n",
    "train_.head()"
   ]
  },
  {
   "cell_type": "code",
   "execution_count": 6,
   "id": "0693bdac",
   "metadata": {},
   "outputs": [
    {
     "name": "stdout",
     "output_type": "stream",
     "text": [
      "<class 'pandas.core.frame.DataFrame'>\n",
      "RangeIndex: 6255 entries, 0 to 6254\n",
      "Data columns (total 17 columns):\n",
      " #   Column        Non-Null Count  Dtype  \n",
      "---  ------        --------------  -----  \n",
      " 0   id            6255 non-null   int64  \n",
      " 1   Store         6255 non-null   int64  \n",
      " 2   Date          6255 non-null   object \n",
      " 3   Y             6255 non-null   int64  \n",
      " 4   M             6255 non-null   int64  \n",
      " 5   D             6255 non-null   int64  \n",
      " 6   Temperature   6255 non-null   float64\n",
      " 7   Fuel_Price    6255 non-null   float64\n",
      " 8   Promotion1    2102 non-null   float64\n",
      " 9   Promotion2    1592 non-null   float64\n",
      " 10  Promotion3    1885 non-null   float64\n",
      " 11  Promotion4    1819 non-null   float64\n",
      " 12  Promotion5    2115 non-null   float64\n",
      " 13  Unemployment  6255 non-null   float64\n",
      " 14  IsHoliday     6255 non-null   bool   \n",
      " 15  Holiday       6255 non-null   int64  \n",
      " 16  Weekly_Sales  6255 non-null   float64\n",
      "dtypes: bool(1), float64(9), int64(6), object(1)\n",
      "memory usage: 788.1+ KB\n"
     ]
    }
   ],
   "source": [
    "train_.info()"
   ]
  },
  {
   "cell_type": "code",
   "execution_count": 7,
   "id": "4749eda5",
   "metadata": {},
   "outputs": [
    {
     "data": {
      "text/html": [
       "<div>\n",
       "<style scoped>\n",
       "    .dataframe tbody tr th:only-of-type {\n",
       "        vertical-align: middle;\n",
       "    }\n",
       "\n",
       "    .dataframe tbody tr th {\n",
       "        vertical-align: top;\n",
       "    }\n",
       "\n",
       "    .dataframe thead th {\n",
       "        text-align: right;\n",
       "    }\n",
       "</style>\n",
       "<table border=\"1\" class=\"dataframe\">\n",
       "  <thead>\n",
       "    <tr style=\"text-align: right;\">\n",
       "      <th></th>\n",
       "      <th>id</th>\n",
       "      <th>Store</th>\n",
       "      <th>Y</th>\n",
       "      <th>M</th>\n",
       "      <th>D</th>\n",
       "      <th>Temperature</th>\n",
       "      <th>Fuel_Price</th>\n",
       "      <th>Promotion1</th>\n",
       "      <th>Promotion2</th>\n",
       "      <th>Promotion3</th>\n",
       "      <th>Promotion4</th>\n",
       "      <th>Promotion5</th>\n",
       "      <th>Unemployment</th>\n",
       "      <th>Holiday</th>\n",
       "      <th>Weekly_Sales</th>\n",
       "    </tr>\n",
       "  </thead>\n",
       "  <tbody>\n",
       "    <tr>\n",
       "      <th>count</th>\n",
       "      <td>6255.000000</td>\n",
       "      <td>6255.000000</td>\n",
       "      <td>6255.000000</td>\n",
       "      <td>6255.000000</td>\n",
       "      <td>6255.000000</td>\n",
       "      <td>6255.000000</td>\n",
       "      <td>6255.000000</td>\n",
       "      <td>2102.000000</td>\n",
       "      <td>1592.000000</td>\n",
       "      <td>1885.000000</td>\n",
       "      <td>1819.000000</td>\n",
       "      <td>2115.000000</td>\n",
       "      <td>6255.000000</td>\n",
       "      <td>6255.000000</td>\n",
       "      <td>6.255000e+03</td>\n",
       "    </tr>\n",
       "    <tr>\n",
       "      <th>mean</th>\n",
       "      <td>3128.000000</td>\n",
       "      <td>23.000000</td>\n",
       "      <td>2010.935252</td>\n",
       "      <td>6.345324</td>\n",
       "      <td>15.683453</td>\n",
       "      <td>60.639199</td>\n",
       "      <td>3.344369</td>\n",
       "      <td>7155.930661</td>\n",
       "      <td>3308.125810</td>\n",
       "      <td>1462.535523</td>\n",
       "      <td>3465.952501</td>\n",
       "      <td>4518.993173</td>\n",
       "      <td>8.029236</td>\n",
       "      <td>0.071942</td>\n",
       "      <td>1.047619e+06</td>\n",
       "    </tr>\n",
       "    <tr>\n",
       "      <th>std</th>\n",
       "      <td>1805.807299</td>\n",
       "      <td>12.988211</td>\n",
       "      <td>0.788547</td>\n",
       "      <td>3.227195</td>\n",
       "      <td>8.781023</td>\n",
       "      <td>18.624094</td>\n",
       "      <td>0.455364</td>\n",
       "      <td>8408.206085</td>\n",
       "      <td>9382.823804</td>\n",
       "      <td>9667.580258</td>\n",
       "      <td>6413.116294</td>\n",
       "      <td>6048.661908</td>\n",
       "      <td>1.874875</td>\n",
       "      <td>0.258413</td>\n",
       "      <td>5.654362e+05</td>\n",
       "    </tr>\n",
       "    <tr>\n",
       "      <th>min</th>\n",
       "      <td>1.000000</td>\n",
       "      <td>1.000000</td>\n",
       "      <td>2010.000000</td>\n",
       "      <td>1.000000</td>\n",
       "      <td>1.000000</td>\n",
       "      <td>-2.060000</td>\n",
       "      <td>2.472000</td>\n",
       "      <td>0.270000</td>\n",
       "      <td>-265.760000</td>\n",
       "      <td>-29.100000</td>\n",
       "      <td>0.410000</td>\n",
       "      <td>135.160000</td>\n",
       "      <td>4.077000</td>\n",
       "      <td>0.000000</td>\n",
       "      <td>2.099862e+05</td>\n",
       "    </tr>\n",
       "    <tr>\n",
       "      <th>25%</th>\n",
       "      <td>1564.500000</td>\n",
       "      <td>12.000000</td>\n",
       "      <td>2010.000000</td>\n",
       "      <td>4.000000</td>\n",
       "      <td>8.000000</td>\n",
       "      <td>47.170000</td>\n",
       "      <td>2.917000</td>\n",
       "      <td>1844.295000</td>\n",
       "      <td>39.755000</td>\n",
       "      <td>4.700000</td>\n",
       "      <td>499.895000</td>\n",
       "      <td>1742.305000</td>\n",
       "      <td>6.916500</td>\n",
       "      <td>0.000000</td>\n",
       "      <td>5.538695e+05</td>\n",
       "    </tr>\n",
       "    <tr>\n",
       "      <th>50%</th>\n",
       "      <td>3128.000000</td>\n",
       "      <td>23.000000</td>\n",
       "      <td>2011.000000</td>\n",
       "      <td>6.000000</td>\n",
       "      <td>16.000000</td>\n",
       "      <td>62.720000</td>\n",
       "      <td>3.413000</td>\n",
       "      <td>5221.140000</td>\n",
       "      <td>205.410000</td>\n",
       "      <td>24.600000</td>\n",
       "      <td>1532.630000</td>\n",
       "      <td>3226.410000</td>\n",
       "      <td>7.906000</td>\n",
       "      <td>0.000000</td>\n",
       "      <td>9.604761e+05</td>\n",
       "    </tr>\n",
       "    <tr>\n",
       "      <th>75%</th>\n",
       "      <td>4691.500000</td>\n",
       "      <td>34.000000</td>\n",
       "      <td>2012.000000</td>\n",
       "      <td>9.000000</td>\n",
       "      <td>23.000000</td>\n",
       "      <td>75.220000</td>\n",
       "      <td>3.722000</td>\n",
       "      <td>9199.242500</td>\n",
       "      <td>1931.005000</td>\n",
       "      <td>104.010000</td>\n",
       "      <td>3640.905000</td>\n",
       "      <td>5444.030000</td>\n",
       "      <td>8.622000</td>\n",
       "      <td>0.000000</td>\n",
       "      <td>1.421209e+06</td>\n",
       "    </tr>\n",
       "    <tr>\n",
       "      <th>max</th>\n",
       "      <td>6255.000000</td>\n",
       "      <td>45.000000</td>\n",
       "      <td>2012.000000</td>\n",
       "      <td>12.000000</td>\n",
       "      <td>31.000000</td>\n",
       "      <td>100.140000</td>\n",
       "      <td>4.308000</td>\n",
       "      <td>88646.760000</td>\n",
       "      <td>104519.540000</td>\n",
       "      <td>141630.610000</td>\n",
       "      <td>67474.850000</td>\n",
       "      <td>108519.280000</td>\n",
       "      <td>14.313000</td>\n",
       "      <td>1.000000</td>\n",
       "      <td>3.818686e+06</td>\n",
       "    </tr>\n",
       "  </tbody>\n",
       "</table>\n",
       "</div>"
      ],
      "text/plain": [
       "                id        Store            Y            M            D  \\\n",
       "count  6255.000000  6255.000000  6255.000000  6255.000000  6255.000000   \n",
       "mean   3128.000000    23.000000  2010.935252     6.345324    15.683453   \n",
       "std    1805.807299    12.988211     0.788547     3.227195     8.781023   \n",
       "min       1.000000     1.000000  2010.000000     1.000000     1.000000   \n",
       "25%    1564.500000    12.000000  2010.000000     4.000000     8.000000   \n",
       "50%    3128.000000    23.000000  2011.000000     6.000000    16.000000   \n",
       "75%    4691.500000    34.000000  2012.000000     9.000000    23.000000   \n",
       "max    6255.000000    45.000000  2012.000000    12.000000    31.000000   \n",
       "\n",
       "       Temperature   Fuel_Price    Promotion1     Promotion2     Promotion3  \\\n",
       "count  6255.000000  6255.000000   2102.000000    1592.000000    1885.000000   \n",
       "mean     60.639199     3.344369   7155.930661    3308.125810    1462.535523   \n",
       "std      18.624094     0.455364   8408.206085    9382.823804    9667.580258   \n",
       "min      -2.060000     2.472000      0.270000    -265.760000     -29.100000   \n",
       "25%      47.170000     2.917000   1844.295000      39.755000       4.700000   \n",
       "50%      62.720000     3.413000   5221.140000     205.410000      24.600000   \n",
       "75%      75.220000     3.722000   9199.242500    1931.005000     104.010000   \n",
       "max     100.140000     4.308000  88646.760000  104519.540000  141630.610000   \n",
       "\n",
       "         Promotion4     Promotion5  Unemployment      Holiday  Weekly_Sales  \n",
       "count   1819.000000    2115.000000   6255.000000  6255.000000  6.255000e+03  \n",
       "mean    3465.952501    4518.993173      8.029236     0.071942  1.047619e+06  \n",
       "std     6413.116294    6048.661908      1.874875     0.258413  5.654362e+05  \n",
       "min        0.410000     135.160000      4.077000     0.000000  2.099862e+05  \n",
       "25%      499.895000    1742.305000      6.916500     0.000000  5.538695e+05  \n",
       "50%     1532.630000    3226.410000      7.906000     0.000000  9.604761e+05  \n",
       "75%     3640.905000    5444.030000      8.622000     0.000000  1.421209e+06  \n",
       "max    67474.850000  108519.280000     14.313000     1.000000  3.818686e+06  "
      ]
     },
     "execution_count": 7,
     "metadata": {},
     "output_type": "execute_result"
    }
   ],
   "source": [
    "train_.describe()"
   ]
  },
  {
   "cell_type": "code",
   "execution_count": null,
   "id": "39c0f29e",
   "metadata": {},
   "outputs": [],
   "source": []
  },
  {
   "cell_type": "code",
   "execution_count": null,
   "id": "b2bbf2af",
   "metadata": {},
   "outputs": [],
   "source": []
  },
  {
   "cell_type": "code",
   "execution_count": null,
   "id": "ff06b845",
   "metadata": {},
   "outputs": [],
   "source": []
  },
  {
   "cell_type": "code",
   "execution_count": 8,
   "id": "e575c433",
   "metadata": {},
   "outputs": [
    {
     "data": {
      "text/html": [
       "<div>\n",
       "<style scoped>\n",
       "    .dataframe tbody tr th:only-of-type {\n",
       "        vertical-align: middle;\n",
       "    }\n",
       "\n",
       "    .dataframe tbody tr th {\n",
       "        vertical-align: top;\n",
       "    }\n",
       "\n",
       "    .dataframe thead th {\n",
       "        text-align: right;\n",
       "    }\n",
       "</style>\n",
       "<table border=\"1\" class=\"dataframe\">\n",
       "  <thead>\n",
       "    <tr style=\"text-align: right;\">\n",
       "      <th></th>\n",
       "      <th>id</th>\n",
       "      <th>Store</th>\n",
       "      <th>Date</th>\n",
       "      <th>Y</th>\n",
       "      <th>M</th>\n",
       "      <th>D</th>\n",
       "      <th>Temperature</th>\n",
       "      <th>Fuel_Price</th>\n",
       "      <th>Promotion1</th>\n",
       "      <th>Promotion2</th>\n",
       "      <th>Promotion3</th>\n",
       "      <th>Promotion4</th>\n",
       "      <th>Promotion5</th>\n",
       "      <th>Unemployment</th>\n",
       "      <th>IsHoliday</th>\n",
       "      <th>Holiday</th>\n",
       "      <th>Weekly_Sales</th>\n",
       "    </tr>\n",
       "  </thead>\n",
       "  <tbody>\n",
       "    <tr>\n",
       "      <th>0</th>\n",
       "      <td>1</td>\n",
       "      <td>1</td>\n",
       "      <td>05/02/2010</td>\n",
       "      <td>2010</td>\n",
       "      <td>2</td>\n",
       "      <td>5</td>\n",
       "      <td>42.31</td>\n",
       "      <td>2.572</td>\n",
       "      <td>0.00</td>\n",
       "      <td>0.00</td>\n",
       "      <td>0.00</td>\n",
       "      <td>0.00</td>\n",
       "      <td>0.00</td>\n",
       "      <td>8.106</td>\n",
       "      <td>False</td>\n",
       "      <td>0</td>\n",
       "      <td>1643690.90</td>\n",
       "    </tr>\n",
       "    <tr>\n",
       "      <th>1</th>\n",
       "      <td>2</td>\n",
       "      <td>1</td>\n",
       "      <td>12/02/2010</td>\n",
       "      <td>2010</td>\n",
       "      <td>2</td>\n",
       "      <td>12</td>\n",
       "      <td>38.51</td>\n",
       "      <td>2.548</td>\n",
       "      <td>0.00</td>\n",
       "      <td>0.00</td>\n",
       "      <td>0.00</td>\n",
       "      <td>0.00</td>\n",
       "      <td>0.00</td>\n",
       "      <td>8.106</td>\n",
       "      <td>True</td>\n",
       "      <td>1</td>\n",
       "      <td>1641957.44</td>\n",
       "    </tr>\n",
       "    <tr>\n",
       "      <th>2</th>\n",
       "      <td>3</td>\n",
       "      <td>1</td>\n",
       "      <td>19/02/2010</td>\n",
       "      <td>2010</td>\n",
       "      <td>2</td>\n",
       "      <td>19</td>\n",
       "      <td>39.93</td>\n",
       "      <td>2.514</td>\n",
       "      <td>0.00</td>\n",
       "      <td>0.00</td>\n",
       "      <td>0.00</td>\n",
       "      <td>0.00</td>\n",
       "      <td>0.00</td>\n",
       "      <td>8.106</td>\n",
       "      <td>False</td>\n",
       "      <td>0</td>\n",
       "      <td>1611968.17</td>\n",
       "    </tr>\n",
       "    <tr>\n",
       "      <th>3</th>\n",
       "      <td>4</td>\n",
       "      <td>1</td>\n",
       "      <td>26/02/2010</td>\n",
       "      <td>2010</td>\n",
       "      <td>2</td>\n",
       "      <td>26</td>\n",
       "      <td>46.63</td>\n",
       "      <td>2.561</td>\n",
       "      <td>0.00</td>\n",
       "      <td>0.00</td>\n",
       "      <td>0.00</td>\n",
       "      <td>0.00</td>\n",
       "      <td>0.00</td>\n",
       "      <td>8.106</td>\n",
       "      <td>False</td>\n",
       "      <td>0</td>\n",
       "      <td>1409727.59</td>\n",
       "    </tr>\n",
       "    <tr>\n",
       "      <th>4</th>\n",
       "      <td>5</td>\n",
       "      <td>1</td>\n",
       "      <td>05/03/2010</td>\n",
       "      <td>2010</td>\n",
       "      <td>3</td>\n",
       "      <td>5</td>\n",
       "      <td>46.50</td>\n",
       "      <td>2.625</td>\n",
       "      <td>0.00</td>\n",
       "      <td>0.00</td>\n",
       "      <td>0.00</td>\n",
       "      <td>0.00</td>\n",
       "      <td>0.00</td>\n",
       "      <td>8.106</td>\n",
       "      <td>False</td>\n",
       "      <td>0</td>\n",
       "      <td>1554806.68</td>\n",
       "    </tr>\n",
       "    <tr>\n",
       "      <th>...</th>\n",
       "      <td>...</td>\n",
       "      <td>...</td>\n",
       "      <td>...</td>\n",
       "      <td>...</td>\n",
       "      <td>...</td>\n",
       "      <td>...</td>\n",
       "      <td>...</td>\n",
       "      <td>...</td>\n",
       "      <td>...</td>\n",
       "      <td>...</td>\n",
       "      <td>...</td>\n",
       "      <td>...</td>\n",
       "      <td>...</td>\n",
       "      <td>...</td>\n",
       "      <td>...</td>\n",
       "      <td>...</td>\n",
       "      <td>...</td>\n",
       "    </tr>\n",
       "    <tr>\n",
       "      <th>6250</th>\n",
       "      <td>6251</td>\n",
       "      <td>45</td>\n",
       "      <td>31/08/2012</td>\n",
       "      <td>2012</td>\n",
       "      <td>8</td>\n",
       "      <td>31</td>\n",
       "      <td>75.09</td>\n",
       "      <td>3.867</td>\n",
       "      <td>23641.30</td>\n",
       "      <td>6.00</td>\n",
       "      <td>92.93</td>\n",
       "      <td>6988.31</td>\n",
       "      <td>3992.13</td>\n",
       "      <td>8.684</td>\n",
       "      <td>False</td>\n",
       "      <td>0</td>\n",
       "      <td>734297.87</td>\n",
       "    </tr>\n",
       "    <tr>\n",
       "      <th>6251</th>\n",
       "      <td>6252</td>\n",
       "      <td>45</td>\n",
       "      <td>07/09/2012</td>\n",
       "      <td>2012</td>\n",
       "      <td>9</td>\n",
       "      <td>7</td>\n",
       "      <td>75.70</td>\n",
       "      <td>3.911</td>\n",
       "      <td>11024.45</td>\n",
       "      <td>12.80</td>\n",
       "      <td>52.63</td>\n",
       "      <td>1854.77</td>\n",
       "      <td>2055.70</td>\n",
       "      <td>8.684</td>\n",
       "      <td>True</td>\n",
       "      <td>1</td>\n",
       "      <td>766512.66</td>\n",
       "    </tr>\n",
       "    <tr>\n",
       "      <th>6252</th>\n",
       "      <td>6253</td>\n",
       "      <td>45</td>\n",
       "      <td>14/09/2012</td>\n",
       "      <td>2012</td>\n",
       "      <td>9</td>\n",
       "      <td>14</td>\n",
       "      <td>67.87</td>\n",
       "      <td>3.948</td>\n",
       "      <td>11407.95</td>\n",
       "      <td>0.00</td>\n",
       "      <td>4.30</td>\n",
       "      <td>3421.72</td>\n",
       "      <td>5268.92</td>\n",
       "      <td>8.684</td>\n",
       "      <td>False</td>\n",
       "      <td>0</td>\n",
       "      <td>702238.27</td>\n",
       "    </tr>\n",
       "    <tr>\n",
       "      <th>6253</th>\n",
       "      <td>6254</td>\n",
       "      <td>45</td>\n",
       "      <td>21/09/2012</td>\n",
       "      <td>2012</td>\n",
       "      <td>9</td>\n",
       "      <td>21</td>\n",
       "      <td>65.32</td>\n",
       "      <td>4.038</td>\n",
       "      <td>8452.20</td>\n",
       "      <td>92.28</td>\n",
       "      <td>63.24</td>\n",
       "      <td>2376.38</td>\n",
       "      <td>8670.40</td>\n",
       "      <td>8.684</td>\n",
       "      <td>False</td>\n",
       "      <td>0</td>\n",
       "      <td>723086.20</td>\n",
       "    </tr>\n",
       "    <tr>\n",
       "      <th>6254</th>\n",
       "      <td>6255</td>\n",
       "      <td>45</td>\n",
       "      <td>28/09/2012</td>\n",
       "      <td>2012</td>\n",
       "      <td>9</td>\n",
       "      <td>28</td>\n",
       "      <td>64.88</td>\n",
       "      <td>3.997</td>\n",
       "      <td>4556.61</td>\n",
       "      <td>20.64</td>\n",
       "      <td>1.50</td>\n",
       "      <td>1601.01</td>\n",
       "      <td>3288.25</td>\n",
       "      <td>8.684</td>\n",
       "      <td>False</td>\n",
       "      <td>0</td>\n",
       "      <td>713173.95</td>\n",
       "    </tr>\n",
       "  </tbody>\n",
       "</table>\n",
       "<p>6255 rows × 17 columns</p>\n",
       "</div>"
      ],
      "text/plain": [
       "        id  Store        Date     Y  M   D  Temperature  Fuel_Price  \\\n",
       "0        1      1  05/02/2010  2010  2   5        42.31       2.572   \n",
       "1        2      1  12/02/2010  2010  2  12        38.51       2.548   \n",
       "2        3      1  19/02/2010  2010  2  19        39.93       2.514   \n",
       "3        4      1  26/02/2010  2010  2  26        46.63       2.561   \n",
       "4        5      1  05/03/2010  2010  3   5        46.50       2.625   \n",
       "...    ...    ...         ...   ... ..  ..          ...         ...   \n",
       "6250  6251     45  31/08/2012  2012  8  31        75.09       3.867   \n",
       "6251  6252     45  07/09/2012  2012  9   7        75.70       3.911   \n",
       "6252  6253     45  14/09/2012  2012  9  14        67.87       3.948   \n",
       "6253  6254     45  21/09/2012  2012  9  21        65.32       4.038   \n",
       "6254  6255     45  28/09/2012  2012  9  28        64.88       3.997   \n",
       "\n",
       "      Promotion1  Promotion2  Promotion3  Promotion4  Promotion5  \\\n",
       "0           0.00        0.00        0.00        0.00        0.00   \n",
       "1           0.00        0.00        0.00        0.00        0.00   \n",
       "2           0.00        0.00        0.00        0.00        0.00   \n",
       "3           0.00        0.00        0.00        0.00        0.00   \n",
       "4           0.00        0.00        0.00        0.00        0.00   \n",
       "...          ...         ...         ...         ...         ...   \n",
       "6250    23641.30        6.00       92.93     6988.31     3992.13   \n",
       "6251    11024.45       12.80       52.63     1854.77     2055.70   \n",
       "6252    11407.95        0.00        4.30     3421.72     5268.92   \n",
       "6253     8452.20       92.28       63.24     2376.38     8670.40   \n",
       "6254     4556.61       20.64        1.50     1601.01     3288.25   \n",
       "\n",
       "      Unemployment  IsHoliday  Holiday  Weekly_Sales  \n",
       "0            8.106      False        0    1643690.90  \n",
       "1            8.106       True        1    1641957.44  \n",
       "2            8.106      False        0    1611968.17  \n",
       "3            8.106      False        0    1409727.59  \n",
       "4            8.106      False        0    1554806.68  \n",
       "...            ...        ...      ...           ...  \n",
       "6250         8.684      False        0     734297.87  \n",
       "6251         8.684       True        1     766512.66  \n",
       "6252         8.684      False        0     702238.27  \n",
       "6253         8.684      False        0     723086.20  \n",
       "6254         8.684      False        0     713173.95  \n",
       "\n",
       "[6255 rows x 17 columns]"
      ]
     },
     "execution_count": 8,
     "metadata": {},
     "output_type": "execute_result"
    }
   ],
   "source": [
    "# Promotion 시리즈들은 결측치가 너무 많이 존재\n",
    "# 결측치가 존재하는 값들은 편의를 위해 0으로 설정\n",
    "\n",
    "train_ = train_.fillna(0)\n",
    "train_"
   ]
  },
  {
   "cell_type": "code",
   "execution_count": 9,
   "id": "15464ea2",
   "metadata": {},
   "outputs": [
    {
     "name": "stdout",
     "output_type": "stream",
     "text": [
      "<class 'pandas.core.frame.DataFrame'>\n",
      "RangeIndex: 6255 entries, 0 to 6254\n",
      "Data columns (total 17 columns):\n",
      " #   Column        Non-Null Count  Dtype  \n",
      "---  ------        --------------  -----  \n",
      " 0   id            6255 non-null   int64  \n",
      " 1   Store         6255 non-null   int64  \n",
      " 2   Date          6255 non-null   object \n",
      " 3   Y             6255 non-null   int64  \n",
      " 4   M             6255 non-null   int64  \n",
      " 5   D             6255 non-null   int64  \n",
      " 6   Temperature   6255 non-null   float64\n",
      " 7   Fuel_Price    6255 non-null   float64\n",
      " 8   Promotion1    6255 non-null   float64\n",
      " 9   Promotion2    6255 non-null   float64\n",
      " 10  Promotion3    6255 non-null   float64\n",
      " 11  Promotion4    6255 non-null   float64\n",
      " 12  Promotion5    6255 non-null   float64\n",
      " 13  Unemployment  6255 non-null   float64\n",
      " 14  IsHoliday     6255 non-null   bool   \n",
      " 15  Holiday       6255 non-null   int64  \n",
      " 16  Weekly_Sales  6255 non-null   float64\n",
      "dtypes: bool(1), float64(9), int64(6), object(1)\n",
      "memory usage: 788.1+ KB\n"
     ]
    }
   ],
   "source": [
    "train_.info()"
   ]
  },
  {
   "cell_type": "code",
   "execution_count": 10,
   "id": "ba96b3ee",
   "metadata": {},
   "outputs": [
    {
     "data": {
      "text/html": [
       "<div>\n",
       "<style scoped>\n",
       "    .dataframe tbody tr th:only-of-type {\n",
       "        vertical-align: middle;\n",
       "    }\n",
       "\n",
       "    .dataframe tbody tr th {\n",
       "        vertical-align: top;\n",
       "    }\n",
       "\n",
       "    .dataframe thead th {\n",
       "        text-align: right;\n",
       "    }\n",
       "</style>\n",
       "<table border=\"1\" class=\"dataframe\">\n",
       "  <thead>\n",
       "    <tr style=\"text-align: right;\">\n",
       "      <th></th>\n",
       "      <th>id</th>\n",
       "      <th>Store</th>\n",
       "      <th>Y</th>\n",
       "      <th>M</th>\n",
       "      <th>D</th>\n",
       "      <th>Temperature</th>\n",
       "      <th>Fuel_Price</th>\n",
       "      <th>Promotion1</th>\n",
       "      <th>Promotion2</th>\n",
       "      <th>Promotion3</th>\n",
       "      <th>Promotion4</th>\n",
       "      <th>Promotion5</th>\n",
       "      <th>Unemployment</th>\n",
       "      <th>Holiday</th>\n",
       "      <th>Weekly_Sales</th>\n",
       "    </tr>\n",
       "  </thead>\n",
       "  <tbody>\n",
       "    <tr>\n",
       "      <th>count</th>\n",
       "      <td>6255.000000</td>\n",
       "      <td>6255.000000</td>\n",
       "      <td>6255.000000</td>\n",
       "      <td>6255.000000</td>\n",
       "      <td>6255.000000</td>\n",
       "      <td>6255.000000</td>\n",
       "      <td>6255.000000</td>\n",
       "      <td>6255.000000</td>\n",
       "      <td>6255.000000</td>\n",
       "      <td>6255.000000</td>\n",
       "      <td>6255.000000</td>\n",
       "      <td>6255.000000</td>\n",
       "      <td>6255.000000</td>\n",
       "      <td>6255.000000</td>\n",
       "      <td>6.255000e+03</td>\n",
       "    </tr>\n",
       "    <tr>\n",
       "      <th>mean</th>\n",
       "      <td>3128.000000</td>\n",
       "      <td>23.000000</td>\n",
       "      <td>2010.935252</td>\n",
       "      <td>6.345324</td>\n",
       "      <td>15.683453</td>\n",
       "      <td>60.639199</td>\n",
       "      <td>3.344369</td>\n",
       "      <td>2404.758793</td>\n",
       "      <td>841.972229</td>\n",
       "      <td>440.748115</td>\n",
       "      <td>1007.924476</td>\n",
       "      <td>1528.004886</td>\n",
       "      <td>8.029236</td>\n",
       "      <td>0.071942</td>\n",
       "      <td>1.047619e+06</td>\n",
       "    </tr>\n",
       "    <tr>\n",
       "      <th>std</th>\n",
       "      <td>1805.807299</td>\n",
       "      <td>12.988211</td>\n",
       "      <td>0.788547</td>\n",
       "      <td>3.227195</td>\n",
       "      <td>8.781023</td>\n",
       "      <td>18.624094</td>\n",
       "      <td>0.455364</td>\n",
       "      <td>5931.093055</td>\n",
       "      <td>4947.042268</td>\n",
       "      <td>5348.422329</td>\n",
       "      <td>3799.155352</td>\n",
       "      <td>4115.581900</td>\n",
       "      <td>1.874875</td>\n",
       "      <td>0.258413</td>\n",
       "      <td>5.654362e+05</td>\n",
       "    </tr>\n",
       "    <tr>\n",
       "      <th>min</th>\n",
       "      <td>1.000000</td>\n",
       "      <td>1.000000</td>\n",
       "      <td>2010.000000</td>\n",
       "      <td>1.000000</td>\n",
       "      <td>1.000000</td>\n",
       "      <td>-2.060000</td>\n",
       "      <td>2.472000</td>\n",
       "      <td>0.000000</td>\n",
       "      <td>-265.760000</td>\n",
       "      <td>-29.100000</td>\n",
       "      <td>0.000000</td>\n",
       "      <td>0.000000</td>\n",
       "      <td>4.077000</td>\n",
       "      <td>0.000000</td>\n",
       "      <td>2.099862e+05</td>\n",
       "    </tr>\n",
       "    <tr>\n",
       "      <th>25%</th>\n",
       "      <td>1564.500000</td>\n",
       "      <td>12.000000</td>\n",
       "      <td>2010.000000</td>\n",
       "      <td>4.000000</td>\n",
       "      <td>8.000000</td>\n",
       "      <td>47.170000</td>\n",
       "      <td>2.917000</td>\n",
       "      <td>0.000000</td>\n",
       "      <td>0.000000</td>\n",
       "      <td>0.000000</td>\n",
       "      <td>0.000000</td>\n",
       "      <td>0.000000</td>\n",
       "      <td>6.916500</td>\n",
       "      <td>0.000000</td>\n",
       "      <td>5.538695e+05</td>\n",
       "    </tr>\n",
       "    <tr>\n",
       "      <th>50%</th>\n",
       "      <td>3128.000000</td>\n",
       "      <td>23.000000</td>\n",
       "      <td>2011.000000</td>\n",
       "      <td>6.000000</td>\n",
       "      <td>16.000000</td>\n",
       "      <td>62.720000</td>\n",
       "      <td>3.413000</td>\n",
       "      <td>0.000000</td>\n",
       "      <td>0.000000</td>\n",
       "      <td>0.000000</td>\n",
       "      <td>0.000000</td>\n",
       "      <td>0.000000</td>\n",
       "      <td>7.906000</td>\n",
       "      <td>0.000000</td>\n",
       "      <td>9.604761e+05</td>\n",
       "    </tr>\n",
       "    <tr>\n",
       "      <th>75%</th>\n",
       "      <td>4691.500000</td>\n",
       "      <td>34.000000</td>\n",
       "      <td>2012.000000</td>\n",
       "      <td>9.000000</td>\n",
       "      <td>23.000000</td>\n",
       "      <td>75.220000</td>\n",
       "      <td>3.722000</td>\n",
       "      <td>1916.600000</td>\n",
       "      <td>0.100000</td>\n",
       "      <td>2.795000</td>\n",
       "      <td>191.110000</td>\n",
       "      <td>1792.825000</td>\n",
       "      <td>8.622000</td>\n",
       "      <td>0.000000</td>\n",
       "      <td>1.421209e+06</td>\n",
       "    </tr>\n",
       "    <tr>\n",
       "      <th>max</th>\n",
       "      <td>6255.000000</td>\n",
       "      <td>45.000000</td>\n",
       "      <td>2012.000000</td>\n",
       "      <td>12.000000</td>\n",
       "      <td>31.000000</td>\n",
       "      <td>100.140000</td>\n",
       "      <td>4.308000</td>\n",
       "      <td>88646.760000</td>\n",
       "      <td>104519.540000</td>\n",
       "      <td>141630.610000</td>\n",
       "      <td>67474.850000</td>\n",
       "      <td>108519.280000</td>\n",
       "      <td>14.313000</td>\n",
       "      <td>1.000000</td>\n",
       "      <td>3.818686e+06</td>\n",
       "    </tr>\n",
       "  </tbody>\n",
       "</table>\n",
       "</div>"
      ],
      "text/plain": [
       "                id        Store            Y            M            D  \\\n",
       "count  6255.000000  6255.000000  6255.000000  6255.000000  6255.000000   \n",
       "mean   3128.000000    23.000000  2010.935252     6.345324    15.683453   \n",
       "std    1805.807299    12.988211     0.788547     3.227195     8.781023   \n",
       "min       1.000000     1.000000  2010.000000     1.000000     1.000000   \n",
       "25%    1564.500000    12.000000  2010.000000     4.000000     8.000000   \n",
       "50%    3128.000000    23.000000  2011.000000     6.000000    16.000000   \n",
       "75%    4691.500000    34.000000  2012.000000     9.000000    23.000000   \n",
       "max    6255.000000    45.000000  2012.000000    12.000000    31.000000   \n",
       "\n",
       "       Temperature   Fuel_Price    Promotion1     Promotion2     Promotion3  \\\n",
       "count  6255.000000  6255.000000   6255.000000    6255.000000    6255.000000   \n",
       "mean     60.639199     3.344369   2404.758793     841.972229     440.748115   \n",
       "std      18.624094     0.455364   5931.093055    4947.042268    5348.422329   \n",
       "min      -2.060000     2.472000      0.000000    -265.760000     -29.100000   \n",
       "25%      47.170000     2.917000      0.000000       0.000000       0.000000   \n",
       "50%      62.720000     3.413000      0.000000       0.000000       0.000000   \n",
       "75%      75.220000     3.722000   1916.600000       0.100000       2.795000   \n",
       "max     100.140000     4.308000  88646.760000  104519.540000  141630.610000   \n",
       "\n",
       "         Promotion4     Promotion5  Unemployment      Holiday  Weekly_Sales  \n",
       "count   6255.000000    6255.000000   6255.000000  6255.000000  6.255000e+03  \n",
       "mean    1007.924476    1528.004886      8.029236     0.071942  1.047619e+06  \n",
       "std     3799.155352    4115.581900      1.874875     0.258413  5.654362e+05  \n",
       "min        0.000000       0.000000      4.077000     0.000000  2.099862e+05  \n",
       "25%        0.000000       0.000000      6.916500     0.000000  5.538695e+05  \n",
       "50%        0.000000       0.000000      7.906000     0.000000  9.604761e+05  \n",
       "75%      191.110000    1792.825000      8.622000     0.000000  1.421209e+06  \n",
       "max    67474.850000  108519.280000     14.313000     1.000000  3.818686e+06  "
      ]
     },
     "execution_count": 10,
     "metadata": {},
     "output_type": "execute_result"
    }
   ],
   "source": [
    "train_.describe()"
   ]
  },
  {
   "cell_type": "code",
   "execution_count": null,
   "id": "0b288613",
   "metadata": {},
   "outputs": [],
   "source": []
  },
  {
   "cell_type": "code",
   "execution_count": null,
   "id": "6a4e2a4f",
   "metadata": {},
   "outputs": [],
   "source": []
  },
  {
   "cell_type": "code",
   "execution_count": null,
   "id": "c30b5222",
   "metadata": {},
   "outputs": [],
   "source": []
  },
  {
   "cell_type": "code",
   "execution_count": 14,
   "id": "1e64e3c7",
   "metadata": {
    "scrolled": true
   },
   "outputs": [
    {
     "data": {
      "image/png": "[encoded data removed]",
      "text/plain": [
       "<Figure size 432x288 with 1 Axes>"
      ]
     },
     "metadata": {
      "needs_background": "light"
     },
     "output_type": "display_data"
    },
    {
     "data": {
      "image/png": "[encoded data removed]",
      "text/plain": [
       "<Figure size 432x288 with 1 Axes>"
      ]
     },
     "metadata": {
      "needs_background": "light"
     },
     "output_type": "display_data"
    },
    {
     "data": {
      "image/png": "[encoded data removed]",
      "text/plain": [
       "<Figure size 432x288 with 1 Axes>"
      ]
     },
     "metadata": {
      "needs_background": "light"
     },
     "output_type": "display_data"
    },
    {
     "data": {
      "image/png": "[encoded data removed]",
      "text/plain": [
       "<Figure size 432x288 with 1 Axes>"
      ]
     },
     "metadata": {
      "needs_background": "light"
     },
     "output_type": "display_data"
    },
    {
     "data": {
      "image/png": "[encoded data removed]",
      "text/plain": [
       "<Figure size 432x288 with 1 Axes>"
      ]
     },
     "metadata": {
      "needs_background": "light"
     },
     "output_type": "display_data"
    }
   ],
   "source": [
    "# Promotion 시리즈의 분포를 시각화\n",
    "\n",
    "for i in range(1, 6):\n",
    "    x = train_['Promotion{}'.format(str(i))]\n",
    "    y = train_['Weekly_Sales']\n",
    "    \n",
    "    plt.plot(x, y, 'g.')\n",
    "    plt.show()"
   ]
  },
  {
   "cell_type": "code",
   "execution_count": 25,
   "id": "e8d7430f",
   "metadata": {},
   "outputs": [
    {
     "data": {
      "image/png": "[encoded data removed]",
      "text/plain": [
       "<Figure size 432x288 with 1 Axes>"
      ]
     },
     "metadata": {
      "needs_background": "light"
     },
     "output_type": "display_data"
    },
    {
     "data": {
      "image/png": "[encoded data removed]",
      "text/plain": [
       "<Figure size 432x288 with 1 Axes>"
      ]
     },
     "metadata": {
      "needs_background": "light"
     },
     "output_type": "display_data"
    },
    {
     "data": {
      "image/png": "[encoded data removed]",
      "text/plain": [
       "<Figure size 432x288 with 1 Axes>"
      ]
     },
     "metadata": {
      "needs_background": "light"
     },
     "output_type": "display_data"
    },
    {
     "data": {
      "image/png": "[encoded data removed]",
      "text/plain": [
       "<Figure size 432x288 with 1 Axes>"
      ]
     },
     "metadata": {
      "needs_background": "light"
     },
     "output_type": "display_data"
    },
    {
     "data": {
      "image/png": "[encoded data removed]",
      "text/plain": [
       "<Figure size 432x288 with 1 Axes>"
      ]
     },
     "metadata": {
      "needs_background": "light"
     },
     "output_type": "display_data"
    },
    {
     "data": {
      "image/png": "[encoded data removed]",
      "text/plain": [
       "<Figure size 432x288 with 1 Axes>"
      ]
     },
     "metadata": {
      "needs_background": "light"
     },
     "output_type": "display_data"
    },
    {
     "data": {
      "image/png": "[encoded data removed]",
      "text/plain": [
       "<Figure size 432x288 with 1 Axes>"
      ]
     },
     "metadata": {
      "needs_background": "light"
     },
     "output_type": "display_data"
    },
    {
     "data": {
      "image/png": "[encoded data removed]",
      "text/plain": [
       "<Figure size 432x288 with 1 Axes>"
      ]
     },
     "metadata": {
      "needs_background": "light"
     },
     "output_type": "display_data"
    },
    {
     "data": {
      "image/png": "[encoded data removed]",
      "text/plain": [
       "<Figure size 432x288 with 1 Axes>"
      ]
     },
     "metadata": {
      "needs_background": "light"
     },
     "output_type": "display_data"
    },
    {
     "data": {
      "image/png": "[encoded data removed]",
      "text/plain": [
       "<Figure size 432x288 with 1 Axes>"
      ]
     },
     "metadata": {
      "needs_background": "light"
     },
     "output_type": "display_data"
    }
   ],
   "source": [
    "# 월별 매출액 시각화\n",
    "\n",
    "for i in range(1, 11):\n",
    "    tmp = train_[train_['Store'] == i]\n",
    "    plt.plot(tmp['M'], tmp['Weekly_Sales'], 'o', color = 'goldenrod')\n",
    "    plt.show()"
   ]
  },
  {
   "cell_type": "code",
   "execution_count": 26,
   "id": "49c44a9f",
   "metadata": {},
   "outputs": [
    {
     "data": {
      "image/png": "[encoded data removed]",
      "text/plain": [
       "<Figure size 432x288 with 1 Axes>"
      ]
     },
     "metadata": {
      "needs_background": "light"
     },
     "output_type": "display_data"
    },
    {
     "data": {
      "image/png": "[encoded data removed]",
      "text/plain": [
       "<Figure size 432x288 with 1 Axes>"
      ]
     },
     "metadata": {
      "needs_background": "light"
     },
     "output_type": "display_data"
    },
    {
     "data": {
      "image/png": "[encoded data removed]",
      "text/plain": [
       "<Figure size 432x288 with 1 Axes>"
      ]
     },
     "metadata": {
      "needs_background": "light"
     },
     "output_type": "display_data"
    },
    {
     "data": {
      "image/png": "[encoded data removed]",
      "text/plain": [
       "<Figure size 432x288 with 1 Axes>"
      ]
     },
     "metadata": {
      "needs_background": "light"
     },
     "output_type": "display_data"
    },
    {
     "data": {
      "image/png": "[encoded data removed]",
      "text/plain": [
       "<Figure size 432x288 with 1 Axes>"
      ]
     },
     "metadata": {
      "needs_background": "light"
     },
     "output_type": "display_data"
    },
    {
     "data": {
      "image/png": "[encoded data removed]",
      "text/plain": [
       "<Figure size 432x288 with 1 Axes>"
      ]
     },
     "metadata": {
      "needs_background": "light"
     },
     "output_type": "display_data"
    },
    {
     "data": {
      "image/png": "[encoded data removed]",
      "text/plain": [
       "<Figure size 432x288 with 1 Axes>"
      ]
     },
     "metadata": {
      "needs_background": "light"
     },
     "output_type": "display_data"
    },
    {
     "data": {
      "image/png": "[encoded data removed]",
      "text/plain": [
       "<Figure size 432x288 with 1 Axes>"
      ]
     },
     "metadata": {
      "needs_background": "light"
     },
     "output_type": "display_data"
    },
    {
     "data": {
      "image/png": "[encoded data removed]",
      "text/plain": [
       "<Figure size 432x288 with 1 Axes>"
      ]
     },
     "metadata": {
      "needs_background": "light"
     },
     "output_type": "display_data"
    },
    {
     "data": {
      "image/png": "[encoded data removed]",
      "text/plain": [
       "<Figure size 432x288 with 1 Axes>"
      ]
     },
     "metadata": {
      "needs_background": "light"
     },
     "output_type": "display_data"
    }
   ],
   "source": [
    "# 일별 매출액 시각화\n",
    "\n",
    "for i in range(1, 11):\n",
    "    tmp = train_[train_['Store'] == i]\n",
    "    plt.plot(tmp['D'], tmp['Weekly_Sales'], 'o', color = 'lightcoral')\n",
    "    plt.show()"
   ]
  },
  {
   "cell_type": "code",
   "execution_count": null,
   "id": "c3eb32de",
   "metadata": {},
   "outputs": [],
   "source": []
  },
  {
   "cell_type": "code",
   "execution_count": null,
   "id": "bf05deea",
   "metadata": {},
   "outputs": [],
   "source": []
  },
  {
   "cell_type": "code",
   "execution_count": null,
   "id": "e20e402e",
   "metadata": {},
   "outputs": [],
   "source": []
  },
  {
   "cell_type": "code",
   "execution_count": 15,
   "id": "b462f8e5",
   "metadata": {
    "scrolled": false
   },
   "outputs": [
    {
     "name": "stdout",
     "output_type": "stream",
     "text": [
      "                            OLS Regression Results                            \n",
      "==============================================================================\n",
      "Dep. Variable:           Weekly_Sales   R-squared:                       0.109\n",
      "Model:                            OLS   Adj. R-squared:                  0.108\n",
      "Method:                 Least Squares   F-statistic:                     63.95\n",
      "Date:                Fri, 22 Jul 2022   Prob (F-statistic):          2.67e-147\n",
      "Time:                        13:30:30   Log-Likelihood:                -91362.\n",
      "No. Observations:                6255   AIC:                         1.827e+05\n",
      "Df Residuals:                    6242   BIC:                         1.828e+05\n",
      "Df Model:                          12                                         \n",
      "Covariance Type:            nonrobust                                         \n",
      "================================================================================\n",
      "                   coef    std err          t      P>|t|      [0.025      0.975]\n",
      "--------------------------------------------------------------------------------\n",
      "Intercept     5.645e+08   3.57e+07     15.821      0.000    4.95e+08    6.34e+08\n",
      "Y            -2.805e+05   1.78e+04    -15.784      0.000   -3.15e+05   -2.46e+05\n",
      "M             1871.6802   2397.141      0.781      0.435   -2827.540    6570.901\n",
      "D               89.1061    783.557      0.114      0.909   -1446.935    1625.147\n",
      "Temperature   -991.8124    396.778     -2.500      0.012   -1769.634    -213.991\n",
      "Fuel_Price    2.626e+05   2.57e+04     10.227      0.000    2.12e+05    3.13e+05\n",
      "Promotion1      25.0279      2.396     10.447      0.000      20.331      29.724\n",
      "Promotion2       6.4083      1.455      4.405      0.000       3.557       9.260\n",
      "Promotion3      12.0011      1.322      9.078      0.000       9.410      14.593\n",
      "Promotion4      -7.7709      3.369     -2.307      0.021     -14.375      -1.167\n",
      "Promotion5      20.9904      1.916     10.954      0.000      17.234      24.747\n",
      "Unemployment  -4.26e+04   3883.892    -10.967      0.000   -5.02e+04    -3.5e+04\n",
      "Holiday      -2.104e+04   2.83e+04     -0.744      0.457   -7.65e+04    3.44e+04\n",
      "==============================================================================\n",
      "Omnibus:                      366.416   Durbin-Watson:                   0.210\n",
      "Prob(Omnibus):                  0.000   Jarque-Bera (JB):              432.573\n",
      "Skew:                           0.640   Prob(JB):                     1.17e-94\n",
      "Kurtosis:                       3.148   Cond. No.                     4.15e+07\n",
      "==============================================================================\n",
      "\n",
      "Notes:\n",
      "[1] Standard Errors assume that the covariance matrix of the errors is correctly specified.\n",
      "[2] The condition number is large, 4.15e+07. This might indicate that there are\n",
      "strong multicollinearity or other numerical problems.\n"
     ]
    }
   ],
   "source": [
    "# Numeric Value들을 Regression에 투입시켜보기\n",
    "\n",
    "res = smf.ols(formula = 'Weekly_Sales ~ Y + M + D + Temperature + Fuel_Price + \\\n",
    "              Promotion1 + Promotion2 + Promotion3 + Promotion4 + Promotion5 + \\\n",
    "                Unemployment + Holiday', data = train_).fit()\n",
    "print(res.summary())"
   ]
  },
  {
   "cell_type": "code",
   "execution_count": null,
   "id": "41781f5e",
   "metadata": {},
   "outputs": [],
   "source": [
    "# 추후 이상치 처리 등 전처리 작업이 필요할 것으로 보임"
   ]
  }
 ],
 "metadata": {
  "kernelspec": {
   "display_name": "Python 3 (ipykernel)",
   "language": "python",
   "name": "python3"
  },
  "language_info": {
   "codemirror_mode": {
    "name": "ipython",
    "version": 3
   },
   "file_extension": ".py",
   "mimetype": "text/x-python",
   "name": "python",
   "nbconvert_exporter": "python",
   "pygments_lexer": "ipython3",
   "version": "3.9.7"
  }
 },
 "nbformat": 4,
 "nbformat_minor": 5
}
